{
 "cells": [
  {
   "cell_type": "code",
   "execution_count": 1,
   "metadata": {},
   "outputs": [],
   "source": [
    "import pandas as pd\n",
    "import numpy as np\n",
    "import matplotlib.pyplot as plt\n",
    "import seaborn as sns\n",
    "import warnings\n",
    "warnings.filterwarnings('ignore')"
   ]
  },
  {
   "cell_type": "code",
   "execution_count": 2,
   "metadata": {},
   "outputs": [],
   "source": [
    "df=pd.read_csv(\"CO2_emissions.csv\")"
   ]
  },
  {
   "cell_type": "code",
   "execution_count": 3,
   "metadata": {},
   "outputs": [
    {
     "data": {
      "text/plain": [
       "Index(['Make', 'Model', 'Vehicle Class', 'Engine Size(L)', 'Cylinders',\n",
       "       'Transmission', 'Fuel Type', 'Fuel Consumption City (L/100 km)',\n",
       "       'Fuel Consumption Hwy (L/100 km)', 'Fuel Consumption Comb (L/100 km)',\n",
       "       'Fuel Consumption Comb (mpg)', 'CO2 Emissions(g/km)'],\n",
       "      dtype='object')"
      ]
     },
     "execution_count": 3,
     "metadata": {},
     "output_type": "execute_result"
    }
   ],
   "source": [
    "df.columns"
   ]
  },
  {
   "cell_type": "code",
   "execution_count": 4,
   "metadata": {},
   "outputs": [
    {
     "name": "stdout",
     "output_type": "stream",
     "text": [
      "<class 'pandas.core.frame.DataFrame'>\n",
      "RangeIndex: 7385 entries, 0 to 7384\n",
      "Data columns (total 12 columns):\n",
      " #   Column                            Non-Null Count  Dtype  \n",
      "---  ------                            --------------  -----  \n",
      " 0   Make                              7385 non-null   object \n",
      " 1   Model                             7385 non-null   object \n",
      " 2   Vehicle Class                     7385 non-null   object \n",
      " 3   Engine Size(L)                    7385 non-null   float64\n",
      " 4   Cylinders                         7385 non-null   int64  \n",
      " 5   Transmission                      7385 non-null   object \n",
      " 6   Fuel Type                         7385 non-null   object \n",
      " 7   Fuel Consumption City (L/100 km)  7385 non-null   float64\n",
      " 8   Fuel Consumption Hwy (L/100 km)   7385 non-null   float64\n",
      " 9   Fuel Consumption Comb (L/100 km)  7385 non-null   float64\n",
      " 10  Fuel Consumption Comb (mpg)       7385 non-null   int64  \n",
      " 11  CO2 Emissions(g/km)               7385 non-null   int64  \n",
      "dtypes: float64(4), int64(3), object(5)\n",
      "memory usage: 692.5+ KB\n"
     ]
    }
   ],
   "source": [
    "df.info()"
   ]
  },
  {
   "cell_type": "code",
   "execution_count": 5,
   "metadata": {},
   "outputs": [],
   "source": [
    "#one hot encode 'Fuel type' to train the model well\n",
    "\n",
    "temp=df.pop('Fuel Type')\n",
    "df['Ftype_X']=(temp=='X')*1.0\n",
    "df['Ftype_Z']=(temp=='Z')*1.0\n",
    "df['Ftype_E']=(temp=='E')*1.0\n",
    "df['Ftype_D']=(temp=='D')*1.0\n",
    "df['Ftype_N']=(temp=='N')*1.0\n"
   ]
  },
  {
   "cell_type": "code",
   "execution_count": 6,
   "metadata": {},
   "outputs": [
    {
     "data": {
      "text/plain": [
       "Make                                 object\n",
       "Model                                object\n",
       "Vehicle Class                        object\n",
       "Engine Size(L)                      float64\n",
       "Cylinders                             int64\n",
       "Transmission                         object\n",
       "Fuel Consumption City (L/100 km)    float64\n",
       "Fuel Consumption Hwy (L/100 km)     float64\n",
       "Fuel Consumption Comb (L/100 km)    float64\n",
       "Fuel Consumption Comb (mpg)           int64\n",
       "CO2 Emissions(g/km)                   int64\n",
       "Ftype_X                             float64\n",
       "Ftype_Z                             float64\n",
       "Ftype_E                             float64\n",
       "Ftype_D                             float64\n",
       "Ftype_N                             float64\n",
       "dtype: object"
      ]
     },
     "execution_count": 6,
     "metadata": {},
     "output_type": "execute_result"
    }
   ],
   "source": [
    "df.dtypes"
   ]
  },
  {
   "cell_type": "code",
   "execution_count": 7,
   "metadata": {},
   "outputs": [
    {
     "data": {
      "text/html": [
       "<div>\n",
       "<style scoped>\n",
       "    .dataframe tbody tr th:only-of-type {\n",
       "        vertical-align: middle;\n",
       "    }\n",
       "\n",
       "    .dataframe tbody tr th {\n",
       "        vertical-align: top;\n",
       "    }\n",
       "\n",
       "    .dataframe thead th {\n",
       "        text-align: right;\n",
       "    }\n",
       "</style>\n",
       "<table border=\"1\" class=\"dataframe\">\n",
       "  <thead>\n",
       "    <tr style=\"text-align: right;\">\n",
       "      <th></th>\n",
       "      <th>Make</th>\n",
       "      <th>Model</th>\n",
       "      <th>Vehicle Class</th>\n",
       "      <th>Engine Size(L)</th>\n",
       "      <th>Cylinders</th>\n",
       "      <th>Transmission</th>\n",
       "      <th>Fuel Consumption City (L/100 km)</th>\n",
       "      <th>Fuel Consumption Hwy (L/100 km)</th>\n",
       "      <th>Fuel Consumption Comb (L/100 km)</th>\n",
       "      <th>Fuel Consumption Comb (mpg)</th>\n",
       "      <th>CO2 Emissions(g/km)</th>\n",
       "      <th>Ftype_X</th>\n",
       "      <th>Ftype_Z</th>\n",
       "      <th>Ftype_E</th>\n",
       "      <th>Ftype_D</th>\n",
       "      <th>Ftype_N</th>\n",
       "    </tr>\n",
       "  </thead>\n",
       "  <tbody>\n",
       "    <tr>\n",
       "      <th>0</th>\n",
       "      <td>ACURA</td>\n",
       "      <td>ILX</td>\n",
       "      <td>COMPACT</td>\n",
       "      <td>2.0</td>\n",
       "      <td>4</td>\n",
       "      <td>AS5</td>\n",
       "      <td>9.9</td>\n",
       "      <td>6.7</td>\n",
       "      <td>8.5</td>\n",
       "      <td>33</td>\n",
       "      <td>196</td>\n",
       "      <td>0.0</td>\n",
       "      <td>1.0</td>\n",
       "      <td>0.0</td>\n",
       "      <td>0.0</td>\n",
       "      <td>0.0</td>\n",
       "    </tr>\n",
       "    <tr>\n",
       "      <th>1</th>\n",
       "      <td>ACURA</td>\n",
       "      <td>ILX</td>\n",
       "      <td>COMPACT</td>\n",
       "      <td>2.4</td>\n",
       "      <td>4</td>\n",
       "      <td>M6</td>\n",
       "      <td>11.2</td>\n",
       "      <td>7.7</td>\n",
       "      <td>9.6</td>\n",
       "      <td>29</td>\n",
       "      <td>221</td>\n",
       "      <td>0.0</td>\n",
       "      <td>1.0</td>\n",
       "      <td>0.0</td>\n",
       "      <td>0.0</td>\n",
       "      <td>0.0</td>\n",
       "    </tr>\n",
       "    <tr>\n",
       "      <th>2</th>\n",
       "      <td>ACURA</td>\n",
       "      <td>ILX HYBRID</td>\n",
       "      <td>COMPACT</td>\n",
       "      <td>1.5</td>\n",
       "      <td>4</td>\n",
       "      <td>AV7</td>\n",
       "      <td>6.0</td>\n",
       "      <td>5.8</td>\n",
       "      <td>5.9</td>\n",
       "      <td>48</td>\n",
       "      <td>136</td>\n",
       "      <td>0.0</td>\n",
       "      <td>1.0</td>\n",
       "      <td>0.0</td>\n",
       "      <td>0.0</td>\n",
       "      <td>0.0</td>\n",
       "    </tr>\n",
       "    <tr>\n",
       "      <th>3</th>\n",
       "      <td>ACURA</td>\n",
       "      <td>MDX 4WD</td>\n",
       "      <td>SUV - SMALL</td>\n",
       "      <td>3.5</td>\n",
       "      <td>6</td>\n",
       "      <td>AS6</td>\n",
       "      <td>12.7</td>\n",
       "      <td>9.1</td>\n",
       "      <td>11.1</td>\n",
       "      <td>25</td>\n",
       "      <td>255</td>\n",
       "      <td>0.0</td>\n",
       "      <td>1.0</td>\n",
       "      <td>0.0</td>\n",
       "      <td>0.0</td>\n",
       "      <td>0.0</td>\n",
       "    </tr>\n",
       "    <tr>\n",
       "      <th>4</th>\n",
       "      <td>ACURA</td>\n",
       "      <td>RDX AWD</td>\n",
       "      <td>SUV - SMALL</td>\n",
       "      <td>3.5</td>\n",
       "      <td>6</td>\n",
       "      <td>AS6</td>\n",
       "      <td>12.1</td>\n",
       "      <td>8.7</td>\n",
       "      <td>10.6</td>\n",
       "      <td>27</td>\n",
       "      <td>244</td>\n",
       "      <td>0.0</td>\n",
       "      <td>1.0</td>\n",
       "      <td>0.0</td>\n",
       "      <td>0.0</td>\n",
       "      <td>0.0</td>\n",
       "    </tr>\n",
       "  </tbody>\n",
       "</table>\n",
       "</div>"
      ],
      "text/plain": [
       "    Make       Model Vehicle Class  Engine Size(L)  Cylinders Transmission  \\\n",
       "0  ACURA         ILX       COMPACT             2.0          4          AS5   \n",
       "1  ACURA         ILX       COMPACT             2.4          4           M6   \n",
       "2  ACURA  ILX HYBRID       COMPACT             1.5          4          AV7   \n",
       "3  ACURA     MDX 4WD   SUV - SMALL             3.5          6          AS6   \n",
       "4  ACURA     RDX AWD   SUV - SMALL             3.5          6          AS6   \n",
       "\n",
       "   Fuel Consumption City (L/100 km)  Fuel Consumption Hwy (L/100 km)  \\\n",
       "0                               9.9                              6.7   \n",
       "1                              11.2                              7.7   \n",
       "2                               6.0                              5.8   \n",
       "3                              12.7                              9.1   \n",
       "4                              12.1                              8.7   \n",
       "\n",
       "   Fuel Consumption Comb (L/100 km)  Fuel Consumption Comb (mpg)  \\\n",
       "0                               8.5                           33   \n",
       "1                               9.6                           29   \n",
       "2                               5.9                           48   \n",
       "3                              11.1                           25   \n",
       "4                              10.6                           27   \n",
       "\n",
       "   CO2 Emissions(g/km)  Ftype_X  Ftype_Z  Ftype_E  Ftype_D  Ftype_N  \n",
       "0                  196      0.0      1.0      0.0      0.0      0.0  \n",
       "1                  221      0.0      1.0      0.0      0.0      0.0  \n",
       "2                  136      0.0      1.0      0.0      0.0      0.0  \n",
       "3                  255      0.0      1.0      0.0      0.0      0.0  \n",
       "4                  244      0.0      1.0      0.0      0.0      0.0  "
      ]
     },
     "execution_count": 7,
     "metadata": {},
     "output_type": "execute_result"
    }
   ],
   "source": [
    "df.head()"
   ]
  },
  {
   "cell_type": "code",
   "execution_count": 8,
   "metadata": {},
   "outputs": [
    {
     "data": {
      "text/plain": [
       "Index(['Make', 'Model', 'Vehicle Class', 'Engine Size(L)', 'Cylinders',\n",
       "       'Transmission', 'Fuel Consumption City (L/100 km)',\n",
       "       'Fuel Consumption Hwy (L/100 km)', 'Fuel Consumption Comb (L/100 km)',\n",
       "       'Fuel Consumption Comb (mpg)', 'CO2 Emissions(g/km)', 'Ftype_X',\n",
       "       'Ftype_Z', 'Ftype_E', 'Ftype_D', 'Ftype_N'],\n",
       "      dtype='object')"
      ]
     },
     "execution_count": 8,
     "metadata": {},
     "output_type": "execute_result"
    }
   ],
   "source": [
    "df.columns"
   ]
  },
  {
   "cell_type": "code",
   "execution_count": 9,
   "metadata": {},
   "outputs": [],
   "source": [
    "# min max normalization such that all training features stay between 0 to 1\n",
    "\n",
    "def norm(X):\n",
    "    X=(X-min(X))/(max(X)-min(X))\n",
    "    return X"
   ]
  },
  {
   "cell_type": "code",
   "execution_count": 10,
   "metadata": {},
   "outputs": [
    {
     "data": {
      "text/html": [
       "<div>\n",
       "<style scoped>\n",
       "    .dataframe tbody tr th:only-of-type {\n",
       "        vertical-align: middle;\n",
       "    }\n",
       "\n",
       "    .dataframe tbody tr th {\n",
       "        vertical-align: top;\n",
       "    }\n",
       "\n",
       "    .dataframe thead th {\n",
       "        text-align: right;\n",
       "    }\n",
       "</style>\n",
       "<table border=\"1\" class=\"dataframe\">\n",
       "  <thead>\n",
       "    <tr style=\"text-align: right;\">\n",
       "      <th></th>\n",
       "      <th>Make</th>\n",
       "      <th>Model</th>\n",
       "      <th>Vehicle Class</th>\n",
       "      <th>Engine Size(L)</th>\n",
       "      <th>Cylinders</th>\n",
       "      <th>Transmission</th>\n",
       "      <th>Fuel Consumption City (L/100 km)</th>\n",
       "      <th>Fuel Consumption Hwy (L/100 km)</th>\n",
       "      <th>Fuel Consumption Comb (L/100 km)</th>\n",
       "      <th>Fuel Consumption Comb (mpg)</th>\n",
       "      <th>CO2 Emissions(g/km)</th>\n",
       "      <th>Ftype_X</th>\n",
       "      <th>Ftype_Z</th>\n",
       "      <th>Ftype_E</th>\n",
       "      <th>Ftype_D</th>\n",
       "      <th>Ftype_N</th>\n",
       "    </tr>\n",
       "  </thead>\n",
       "  <tbody>\n",
       "    <tr>\n",
       "      <th>0</th>\n",
       "      <td>ACURA</td>\n",
       "      <td>ILX</td>\n",
       "      <td>COMPACT</td>\n",
       "      <td>0.146667</td>\n",
       "      <td>0.076923</td>\n",
       "      <td>AS5</td>\n",
       "      <td>0.215909</td>\n",
       "      <td>0.162651</td>\n",
       "      <td>0.200000</td>\n",
       "      <td>0.379310</td>\n",
       "      <td>196</td>\n",
       "      <td>0.0</td>\n",
       "      <td>1.0</td>\n",
       "      <td>0.0</td>\n",
       "      <td>0.0</td>\n",
       "      <td>0.0</td>\n",
       "    </tr>\n",
       "    <tr>\n",
       "      <th>1</th>\n",
       "      <td>ACURA</td>\n",
       "      <td>ILX</td>\n",
       "      <td>COMPACT</td>\n",
       "      <td>0.200000</td>\n",
       "      <td>0.076923</td>\n",
       "      <td>M6</td>\n",
       "      <td>0.265152</td>\n",
       "      <td>0.222892</td>\n",
       "      <td>0.250000</td>\n",
       "      <td>0.310345</td>\n",
       "      <td>221</td>\n",
       "      <td>0.0</td>\n",
       "      <td>1.0</td>\n",
       "      <td>0.0</td>\n",
       "      <td>0.0</td>\n",
       "      <td>0.0</td>\n",
       "    </tr>\n",
       "    <tr>\n",
       "      <th>2</th>\n",
       "      <td>ACURA</td>\n",
       "      <td>ILX HYBRID</td>\n",
       "      <td>COMPACT</td>\n",
       "      <td>0.080000</td>\n",
       "      <td>0.076923</td>\n",
       "      <td>AV7</td>\n",
       "      <td>0.068182</td>\n",
       "      <td>0.108434</td>\n",
       "      <td>0.081818</td>\n",
       "      <td>0.637931</td>\n",
       "      <td>136</td>\n",
       "      <td>0.0</td>\n",
       "      <td>1.0</td>\n",
       "      <td>0.0</td>\n",
       "      <td>0.0</td>\n",
       "      <td>0.0</td>\n",
       "    </tr>\n",
       "    <tr>\n",
       "      <th>3</th>\n",
       "      <td>ACURA</td>\n",
       "      <td>MDX 4WD</td>\n",
       "      <td>SUV - SMALL</td>\n",
       "      <td>0.346667</td>\n",
       "      <td>0.230769</td>\n",
       "      <td>AS6</td>\n",
       "      <td>0.321970</td>\n",
       "      <td>0.307229</td>\n",
       "      <td>0.318182</td>\n",
       "      <td>0.241379</td>\n",
       "      <td>255</td>\n",
       "      <td>0.0</td>\n",
       "      <td>1.0</td>\n",
       "      <td>0.0</td>\n",
       "      <td>0.0</td>\n",
       "      <td>0.0</td>\n",
       "    </tr>\n",
       "    <tr>\n",
       "      <th>4</th>\n",
       "      <td>ACURA</td>\n",
       "      <td>RDX AWD</td>\n",
       "      <td>SUV - SMALL</td>\n",
       "      <td>0.346667</td>\n",
       "      <td>0.230769</td>\n",
       "      <td>AS6</td>\n",
       "      <td>0.299242</td>\n",
       "      <td>0.283133</td>\n",
       "      <td>0.295455</td>\n",
       "      <td>0.275862</td>\n",
       "      <td>244</td>\n",
       "      <td>0.0</td>\n",
       "      <td>1.0</td>\n",
       "      <td>0.0</td>\n",
       "      <td>0.0</td>\n",
       "      <td>0.0</td>\n",
       "    </tr>\n",
       "  </tbody>\n",
       "</table>\n",
       "</div>"
      ],
      "text/plain": [
       "    Make       Model Vehicle Class  Engine Size(L)  Cylinders Transmission  \\\n",
       "0  ACURA         ILX       COMPACT        0.146667   0.076923          AS5   \n",
       "1  ACURA         ILX       COMPACT        0.200000   0.076923           M6   \n",
       "2  ACURA  ILX HYBRID       COMPACT        0.080000   0.076923          AV7   \n",
       "3  ACURA     MDX 4WD   SUV - SMALL        0.346667   0.230769          AS6   \n",
       "4  ACURA     RDX AWD   SUV - SMALL        0.346667   0.230769          AS6   \n",
       "\n",
       "   Fuel Consumption City (L/100 km)  Fuel Consumption Hwy (L/100 km)  \\\n",
       "0                          0.215909                         0.162651   \n",
       "1                          0.265152                         0.222892   \n",
       "2                          0.068182                         0.108434   \n",
       "3                          0.321970                         0.307229   \n",
       "4                          0.299242                         0.283133   \n",
       "\n",
       "   Fuel Consumption Comb (L/100 km)  Fuel Consumption Comb (mpg)  \\\n",
       "0                          0.200000                     0.379310   \n",
       "1                          0.250000                     0.310345   \n",
       "2                          0.081818                     0.637931   \n",
       "3                          0.318182                     0.241379   \n",
       "4                          0.295455                     0.275862   \n",
       "\n",
       "   CO2 Emissions(g/km)  Ftype_X  Ftype_Z  Ftype_E  Ftype_D  Ftype_N  \n",
       "0                  196      0.0      1.0      0.0      0.0      0.0  \n",
       "1                  221      0.0      1.0      0.0      0.0      0.0  \n",
       "2                  136      0.0      1.0      0.0      0.0      0.0  \n",
       "3                  255      0.0      1.0      0.0      0.0      0.0  \n",
       "4                  244      0.0      1.0      0.0      0.0      0.0  "
      ]
     },
     "execution_count": 10,
     "metadata": {},
     "output_type": "execute_result"
    }
   ],
   "source": [
    "col=['Engine Size(L)', 'Cylinders', 'Fuel Consumption City (L/100 km)',\n",
    "       'Fuel Consumption Hwy (L/100 km)', 'Fuel Consumption Comb (L/100 km)',\n",
    "       'Fuel Consumption Comb (mpg)', 'Ftype_X',\n",
    "       'Ftype_Z', 'Ftype_E', 'Ftype_D', 'Ftype_N']\n",
    "\n",
    "for i in range(len(col)):\n",
    "    df[col[i]]=norm(df[col[i]])\n",
    "\n",
    "df.head()"
   ]
  },
  {
   "cell_type": "code",
   "execution_count": 17,
   "metadata": {},
   "outputs": [],
   "source": [
    "#train test split\n",
    "\n",
    "from sklearn.model_selection import train_test_split\n",
    "\n",
    "train_features=['Engine Size(L)', 'Cylinders', 'Fuel Consumption City (L/100 km)',\n",
    "       'Fuel Consumption Hwy (L/100 km)', 'Fuel Consumption Comb (L/100 km)',\n",
    "       'Fuel Consumption Comb (mpg)', 'Ftype_X',\n",
    "       'Ftype_Z', 'Ftype_E', 'Ftype_D', 'Ftype_N']\n",
    "target=[ 'CO2 Emissions(g/km)']\n",
    "X_train,X_test,Y_train,Y_test= train_test_split(df[train_features],df[target],test_size=0.125,random_state=66)"
   ]
  },
  {
   "cell_type": "code",
   "execution_count": 31,
   "metadata": {},
   "outputs": [],
   "source": [
    "#model definition\n",
    "\n",
    "from sklearn.ensemble import GradientBoostingRegressor\n",
    "    \n",
    "model=GradientBoostingRegressor(n_estimators=100,criterion='mse',max_depth=20,min_samples_leaf=4,min_impurity_split=3,max_leaf_nodes=1000)"
   ]
  },
  {
   "cell_type": "code",
   "execution_count": 32,
   "metadata": {},
   "outputs": [
    {
     "data": {
      "text/plain": [
       "GradientBoostingRegressor(criterion='mse', max_depth=20, max_leaf_nodes=1000,\n",
       "                          min_impurity_split=3, min_samples_leaf=4)"
      ]
     },
     "execution_count": 32,
     "metadata": {},
     "output_type": "execute_result"
    }
   ],
   "source": [
    "#model training\n",
    "\n",
    "model.fit(X_train,Y_train)"
   ]
  },
  {
   "cell_type": "code",
   "execution_count": 33,
   "metadata": {},
   "outputs": [],
   "source": [
    "#predict \n",
    "\n",
    "Y_pred=model.predict(X_test)"
   ]
  },
  {
   "cell_type": "code",
   "execution_count": 34,
   "metadata": {},
   "outputs": [
    {
     "name": "stdout",
     "output_type": "stream",
     "text": [
      "R squared score= 0.9983130988558956\n",
      "MSE= 5.5675031348096224\n"
     ]
    }
   ],
   "source": [
    "#metrics\n",
    "\n",
    "from sklearn.metrics import r2_score,mean_squared_error\n",
    "\n",
    "print(\"R squared score=\",r2_score(Y_test,Y_pred))\n",
    "print(\"MSE=\",mean_squared_error(Y_test,Y_pred))"
   ]
  },
  {
   "cell_type": "code",
   "execution_count": 35,
   "metadata": {},
   "outputs": [
    {
     "name": "stdout",
     "output_type": "stream",
     "text": [
      "Average cross validation score 0.9967490877136594\n"
     ]
    }
   ],
   "source": [
    "from sklearn.model_selection import cross_val_score\n",
    "mod = DecisionTreeRegressor(criterion='mse',max_depth=10,min_samples_leaf=4,min_impurity_split=3,max_leaf_nodes=1000)\n",
    "scores = cross_val_score(mod, X_train, Y_train, cv=100)\n",
    "print(\"Average cross validation score\", np.mean(scores))"
   ]
  },
  {
   "cell_type": "code",
   "execution_count": null,
   "metadata": {},
   "outputs": [],
   "source": []
  }
 ],
 "metadata": {
  "kernelspec": {
   "display_name": "Python 3",
   "language": "python",
   "name": "python3"
  },
  "language_info": {
   "codemirror_mode": {
    "name": "ipython",
    "version": 3
   },
   "file_extension": ".py",
   "mimetype": "text/x-python",
   "name": "python",
   "nbconvert_exporter": "python",
   "pygments_lexer": "ipython3",
   "version": "3.8.3"
  }
 },
 "nbformat": 4,
 "nbformat_minor": 4
}
